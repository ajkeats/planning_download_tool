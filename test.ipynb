{
 "cells": [
  {
   "cell_type": "code",
   "execution_count": 21,
   "metadata": {},
   "outputs": [
    {
     "name": "stdout",
     "output_type": "stream",
     "text": [
      "Downloading: https://publicaccess.rbwm.gov.uk/online-applications/files/A58A5BC8F323A5DB3802CC6327A2CFD8/pdf/21_01935_PDXL--2555670.pdf (application/pdf)\n"
     ]
    }
   ],
   "source": [
    "import requests\n",
    "\n",
    "link = 'https://publicaccess.rbwm.gov.uk/online-applications/files/A58A5BC8F323A5DB3802CC6327A2CFD8/pdf/21_01935_PDXL--2555670.pdf'\n",
    "\n",
    "headers = {\n",
    "    \"User-Agent\": \"Mozilla/5.0 (Macintosh; Intel Mac OS X 10_15_7) AppleWebKit/537.36 (KHTML, like Gecko) Chrome/116.0.0.0 Safari/537.36\",\n",
    "    \"Accept\": \"text/html,application/xhtml+xml,application/xml;q=0.9,image/avif,image/webp,image/apng,*/*;q=0.8,application/signed-exchange;v=b3;q=0.7\",\n",
    "    \"Accept-Encoding\": \"gzip, deflate, br\",\n",
    "    \"Accept-Language\": \"en-GB,en-US;q=0.9,en;q=0.8\",\n",
    "    \"Cache-Control\": \"no-cache\",\n",
    "    \"Connection\": \"keep-alive\",\n",
    "    \"Cookie\": \"JSESSIONID=DvtihMAyG1Q_gzDRVa_mUrZj_etLk0TpUPbumvci.mai-tnh-ipa-01; _ga=GA1.1.305601013.1694597607; _ga_B1S76ZFQXK=GS1.1.1695676574.2.0.1695676577.0.0.0\",\n",
    "    \"Host\": \"publicaccess.rbwm.gov.uk\",\n",
    "    \"Pragma\": \"no-cache\",\n",
    "    \"Referer\": \"https://publicaccess.rbwm.gov.uk/online-applications/applicationDetails.do?keyVal=QV3T5KNI0QY00&activeTab=summary\",\n",
    "    \"Sec-Fetch-Dest\": \"document\",\n",
    "    \"Sec-Fetch-Mode\": \"navigate\",\n",
    "    \"Sec-Fetch-Site\": \"same-origin\",\n",
    "    \"Sec-Fetch-User\": \"?1\",\n",
    "    \"Upgrade-Insecure-Requests\": \"1\",\n",
    "    \"User-Agent\": \"Mozilla/5.0 (Macintosh; Intel Mac OS X 10_15_7) AppleWebKit/537.36 (KHTML, like Gecko) Chrome/116.0.0.0 Safari/537.36\",\n",
    "    \"sec-ch-ua\": '\"Chromium\";v=\"116\", \"Not)A;Brand\";v=\"24\", \"Google Chrome\";v=\"116\"',\n",
    "    \"sec-ch-ua-mobile\": \"?0\",\n",
    "    \"sec-ch-ua-platform\": \"macOS\"\n",
    "    }\n",
    "\n",
    "response = requests.get(link, headers=headers, stream=True)\n",
    "content_type = response.headers.get('Content-Type')\n",
    "print(f\"Downloading: {link} ({content_type})\")"
   ]
  },
  {
   "cell_type": "code",
   "execution_count": 22,
   "metadata": {},
   "outputs": [
    {
     "data": {
      "text/plain": [
       "<RequestsCookieJar[Cookie(version=0, name='JSESSIONID', value='OnF8t08SrRG5tDc9u9rHwT0aRP9sDYxXDLDaaqDP.mai-tnh-ipa-01', port=None, port_specified=False, domain='publicaccess.rbwm.gov.uk', domain_specified=False, domain_initial_dot=False, path='/online-applications', path_specified=True, secure=True, expires=None, discard=True, comment=None, comment_url=None, rest={'HttpOnly': None, 'SameSite': 'None'}, rfc2109=False)]>"
      ]
     },
     "execution_count": 22,
     "metadata": {},
     "output_type": "execute_result"
    }
   ],
   "source": [
    "main_url = 'https://publicaccess.rbwm.gov.uk/online-applications/applicationDetails.do?activeTab=documents&keyVal=QV3T5KNI0QY00'\n",
    "\n",
    "main_response = requests.get(main_url)\n",
    "cookies = main_response.cookies\n",
    "cookies"
   ]
  },
  {
   "cell_type": "code",
   "execution_count": 24,
   "metadata": {},
   "outputs": [
    {
     "name": "stdout",
     "output_type": "stream",
     "text": [
      "Downloading: (text/html;charset=ISO-8859-1) https://publicaccess.rbwm.gov.uk/online-applications/files/A58A5BC8F323A5DB3802CC6327A2CFD8/pdf/21_01935_PDXL--2555670.pdf\n"
     ]
    }
   ],
   "source": [
    "link = 'https://publicaccess.rbwm.gov.uk/online-applications/files/A58A5BC8F323A5DB3802CC6327A2CFD8/pdf/21_01935_PDXL--2555670.pdf'\n",
    "\n",
    "headers = {\n",
    "    \"User-Agent\": \"Mozilla/5.0 (Macintosh; Intel Mac OS X 10_15_7) AppleWebKit/537.36 (KHTML, like Gecko) Chrome/116.0.0.0 Safari/537.36\",\n",
    "    \"Accept\": \"text/html,application/xhtml+xml,application/xml;q=0.9,image/avif,image/webp,image/apng,*/*;q=0.8,application/signed-exchange;v=b3;q=0.7\",\n",
    "    \"Accept-Encoding\": \"gzip, deflate, br\",\n",
    "    \"Accept-Language\": \"en-GB,en-US;q=0.9,en;q=0.8\",\n",
    "    \"Cache-Control\": \"no-cache\",\n",
    "    \"Connection\": \"keep-alive\",\n",
    "    \"Host\": \"publicaccess.rbwm.gov.uk\",\n",
    "    \"Pragma\": \"no-cache\",\n",
    "    \"Referer\": \"https://publicaccess.rbwm.gov.uk/online-applications/applicationDetails.do?keyVal=QV3T5KNI0QY00&activeTab=summary\",\n",
    "    \"Sec-Fetch-Dest\": \"document\",\n",
    "    \"Sec-Fetch-Mode\": \"navigate\",\n",
    "    \"Sec-Fetch-Site\": \"same-origin\",\n",
    "    \"Sec-Fetch-User\": \"?1\",\n",
    "    \"Upgrade-Insecure-Requests\": \"1\",\n",
    "    \"User-Agent\": \"Mozilla/5.0 (Macintosh; Intel Mac OS X 10_15_7) AppleWebKit/537.36 (KHTML, like Gecko) Chrome/116.0.0.0 Safari/537.36\",\n",
    "    \"sec-ch-ua\": '\"Chromium\";v=\"116\", \"Not)A;Brand\";v=\"24\", \"Google Chrome\";v=\"116\"',\n",
    "    \"sec-ch-ua-mobile\": \"?0\",\n",
    "    \"sec-ch-ua-platform\": \"macOS\"\n",
    "    }\n",
    "\n",
    "response = requests.get(link, headers=headers, cookies=cookies , stream=True)\n",
    "content_type = response.headers.get('Content-Type')\n",
    "print(f\"Downloading: ({content_type}) {link}\")"
   ]
  }
 ],
 "metadata": {
  "kernelspec": {
   "display_name": "planning_download_tool",
   "language": "python",
   "name": "python3"
  },
  "language_info": {
   "codemirror_mode": {
    "name": "ipython",
    "version": 3
   },
   "file_extension": ".py",
   "mimetype": "text/x-python",
   "name": "python",
   "nbconvert_exporter": "python",
   "pygments_lexer": "ipython3",
   "version": "3.11.5"
  },
  "orig_nbformat": 4
 },
 "nbformat": 4,
 "nbformat_minor": 2
}
